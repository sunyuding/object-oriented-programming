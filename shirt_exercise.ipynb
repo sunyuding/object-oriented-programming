{
  "nbformat": 4,
  "nbformat_minor": 0,
  "metadata": {
    "kernelspec": {
      "display_name": "Python 3",
      "language": "python",
      "name": "python3"
    },
    "language_info": {
      "codemirror_mode": {
        "name": "ipython",
        "version": 3
      },
      "file_extension": ".py",
      "mimetype": "text/x-python",
      "name": "python",
      "nbconvert_exporter": "python",
      "pygments_lexer": "ipython3",
      "version": "3.9.1"
    },
    "colab": {
      "name": "shirt-exercise.ipynb",
      "provenance": [],
      "collapsed_sections": [],
      "include_colab_link": true
    }
  },
  "cells": [
    {
      "cell_type": "markdown",
      "metadata": {
        "id": "view-in-github",
        "colab_type": "text"
      },
      "source": [
        "<a href=\"https://colab.research.google.com/github/sunyuding/object-oriented-programming/blob/main/shirt_exercise.ipynb\" target=\"_parent\"><img src=\"https://colab.research.google.com/assets/colab-badge.svg\" alt=\"Open In Colab\"/></a>"
      ]
    },
    {
      "cell_type": "markdown",
      "metadata": {
        "id": "pUI9nPoItxa3"
      },
      "source": [
        "# Use the Shirt Class\n",
        "\n",
        "You've seen what a class looks like and how to instantiate an object. Now it's your turn to write code that insantiates a shirt object.\n",
        "\n",
        "# Explanation of the Code\n",
        "This exercise using Jupyter notebook includes three files:\n",
        "- shirt_exercise.ipynb, which is the file you are currently looking at\n",
        "- answer.py containing answers to the exercise\n",
        "- tests.py, tests for checking your code - you can run these tests using the last code cell at the bottom of this notebook\n",
        "\n",
        "# Your Task\n",
        "The shirt_exercise.ipynb file, which you are currently looking at if you are reading this, has an exercise to help guide you through coding with an object in Python.\n",
        "\n",
        "Fill out the TODOs in each section of the Jupyter notebook. You can find a solution in the answer.py file.\n",
        "\n",
        "First, run this code cell below to load the Shirt class."
      ]
    },
    {
      "cell_type": "code",
      "metadata": {
        "id": "vBgo7_OPtxa9"
      },
      "source": [
        "class Shirt:\n",
        "\n",
        "    def __init__(self, shirt_color, shirt_size, shirt_style, shirt_price):\n",
        "        self.color = shirt_color\n",
        "        self.size = shirt_size\n",
        "        self.style = shirt_style\n",
        "        self.price = shirt_price\n",
        "    \n",
        "    def change_price(self, new_price):\n",
        "    \n",
        "        self.price = new_price\n",
        "        \n",
        "    def discount(self, discount):\n",
        "\n",
        "        return self.price * (1 - discount)"
      ],
      "execution_count": 1,
      "outputs": []
    },
    {
      "cell_type": "code",
      "metadata": {
        "id": "6iv7x0h0txa_"
      },
      "source": [
        "### TODO:\n",
        "#    - insantiate a shirt object with the following characteristics:\n",
        "#        - color red, size S, style long-sleeve, and price 25\n",
        "#    - store the object in a variable called shirt_one\n",
        "#\n",
        "#\n",
        "###\n",
        "shirt_one = Shirt('red', 'S', 'long-sleeve', 25)"
      ],
      "execution_count": 2,
      "outputs": []
    },
    {
      "cell_type": "code",
      "metadata": {
        "id": "ZxSySiT6txbB",
        "colab": {
          "base_uri": "https://localhost:8080/"
        },
        "outputId": "736649b7-65d0-4a2a-95d8-a0e31dc0f47c"
      },
      "source": [
        "### TODO:\n",
        "#     - print the price of the shirt using the price attribute\n",
        "#     - use the change_price method to change the price of the shirt to 10\n",
        "#     - print the price of the shirt using the price attribute\n",
        "#     - use the discount method to print the price of the shirt with a 12% discount\n",
        "#\n",
        "###\n",
        "print(shirt_one.price)\n",
        "shirt_one.change_price(10)\n",
        "print(shirt_one.price)\n",
        "print(shirt_one.discount(0.12))"
      ],
      "execution_count": 3,
      "outputs": [
        {
          "output_type": "stream",
          "name": "stdout",
          "text": [
            "25\n",
            "8.8\n"
          ]
        }
      ]
    },
    {
      "cell_type": "code",
      "metadata": {
        "id": "Yx0JM8-stxbB"
      },
      "source": [
        "### TODO:\n",
        "#\n",
        "#    - instantiate another object with the following characteristics:\n",
        "# .       - color orange, size L, style short-sleeve, and price 10\n",
        "#    - store the object in a variable called shirt_two\n",
        "#\n",
        "###\n",
        "shirt_two = Shirt('orange', 'L', 'short-sleeve', 10)"
      ],
      "execution_count": 4,
      "outputs": []
    },
    {
      "cell_type": "code",
      "metadata": {
        "id": "oICHl6KWtxbC"
      },
      "source": [
        "### TODO:\n",
        "#\n",
        "#    - calculate the total cost of shirt_one and shirt_two\n",
        "#    - store the results in a variable called total\n",
        "#    \n",
        "###\n",
        "total = shirt_one.price + shirt_two.price"
      ],
      "execution_count": 5,
      "outputs": []
    },
    {
      "cell_type": "code",
      "metadata": {
        "id": "9Bea_nSFtxbD"
      },
      "source": [
        "### TODO:\n",
        "#\n",
        "#    - use the shirt discount method to calculate the total cost if\n",
        "#       shirt_one has a discount of 14% and shirt_two has a discount\n",
        "#       of 6%\n",
        "#    - store the results in a variable called total_discount\n",
        "###\n",
        "total_discount = shirt_one.discount(0.14) + shirt_two.discount(0.06)"
      ],
      "execution_count": 6,
      "outputs": []
    },
    {
      "cell_type": "markdown",
      "metadata": {
        "id": "n6lVJ_CXtxbE"
      },
      "source": [
        "# Test your Code\n",
        "\n",
        "\n",
        "The following code cell tests your code. \n",
        "\n",
        "There is a file called tests.py containing a function called run_tests(). The run_tests() function executes a handful of assert statements to check your work. You can see this file if you go to the Jupyter Notebook menu and click on \"File->Open\" and then open the tests.py file.\n",
        "\n",
        "Execute the next code cell. The code will produce an error if your answers in this exercise are not what was expected. Keep working on your code until all tests are passing.\n",
        "\n",
        "If you run the code cell and there is no output, then you passed all the tests!\n",
        "\n",
        "As mentioned previously, there's also a file with a solution. To find the solution, click on the Jupyter logo at the top of the workspace, and then enter the folder titled 1.OOP_syntax_shirt_practice"
      ]
    },
    {
      "cell_type": "code",
      "metadata": {
        "id": "vz4H3yKStxbF",
        "colab": {
          "base_uri": "https://localhost:8080/",
          "height": 368
        },
        "outputId": "020d5826-ee9b-41e1-e9cc-010ae2262735"
      },
      "source": [
        "# Unit tests to check your solution\n",
        "from tests import run_tests\n",
        "\n",
        "run_tests(shirt_one, shirt_two, total, total_discount)"
      ],
      "execution_count": 9,
      "outputs": [
        {
          "output_type": "error",
          "ename": "ImportError",
          "evalue": "ignored",
          "traceback": [
            "\u001b[0;31m---------------------------------------------------------------------------\u001b[0m",
            "\u001b[0;31mImportError\u001b[0m                               Traceback (most recent call last)",
            "\u001b[0;32m<ipython-input-9-4c8ee089a60b>\u001b[0m in \u001b[0;36m<module>\u001b[0;34m()\u001b[0m\n\u001b[1;32m      1\u001b[0m \u001b[0;31m# Unit tests to check your solution\u001b[0m\u001b[0;34m\u001b[0m\u001b[0;34m\u001b[0m\u001b[0;34m\u001b[0m\u001b[0m\n\u001b[0;32m----> 2\u001b[0;31m \u001b[0;32mfrom\u001b[0m \u001b[0mtests\u001b[0m \u001b[0;32mimport\u001b[0m \u001b[0mrun_tests\u001b[0m\u001b[0;34m\u001b[0m\u001b[0;34m\u001b[0m\u001b[0m\n\u001b[0m\u001b[1;32m      3\u001b[0m \u001b[0;34m\u001b[0m\u001b[0m\n\u001b[1;32m      4\u001b[0m \u001b[0mrun_tests\u001b[0m\u001b[0;34m(\u001b[0m\u001b[0mshirt_one\u001b[0m\u001b[0;34m,\u001b[0m \u001b[0mshirt_two\u001b[0m\u001b[0;34m,\u001b[0m \u001b[0mtotal\u001b[0m\u001b[0;34m,\u001b[0m \u001b[0mtotal_discount\u001b[0m\u001b[0;34m)\u001b[0m\u001b[0;34m\u001b[0m\u001b[0;34m\u001b[0m\u001b[0m\n",
            "\u001b[0;31mImportError\u001b[0m: cannot import name 'run_tests' from 'tests' (/usr/local/lib/python3.7/dist-packages/tests/__init__.py)",
            "",
            "\u001b[0;31m---------------------------------------------------------------------------\u001b[0;32m\nNOTE: If your import is failing due to a missing package, you can\nmanually install dependencies using either !pip or !apt.\n\nTo view examples of installing some common dependencies, click the\n\"Open Examples\" button below.\n\u001b[0;31m---------------------------------------------------------------------------\u001b[0m\n"
          ],
          "errorDetails": {
            "actions": [
              {
                "action": "open_url",
                "actionText": "Open Examples",
                "url": "/notebooks/snippets/importing_libraries.ipynb"
              }
            ]
          }
        }
      ]
    }
  ]
}